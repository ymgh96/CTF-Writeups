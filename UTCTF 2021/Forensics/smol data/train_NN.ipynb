{
 "cells": [
  {
   "cell_type": "code",
   "execution_count": 5,
   "id": "electronic-wonder",
   "metadata": {},
   "outputs": [],
   "source": [
    "import numpy as np\n",
    "from sklearn import linear_model "
   ]
  },
  {
   "cell_type": "code",
   "execution_count": 36,
   "id": "injured-birth",
   "metadata": {},
   "outputs": [],
   "source": [
    "data = np.genfromtxt(\"D:/CTF competition/Participated/UTCTF/smol data/anomaly_detect.csv\",delimiter=',')\n",
    "# because first line has columns name and empty cells\n",
    "# 70th column is label\n",
    "X = data[1:,0:69]\n",
    "y = data[1:,69]\n",
    "\n",
    "reg = linear_model.LinearRegression()\n",
    "reg.fit(X,y)\n",
    "prd = reg.predict(X)"
   ]
  },
  {
   "cell_type": "code",
   "execution_count": 37,
   "id": "julian-array",
   "metadata": {},
   "outputs": [],
   "source": [
    "sqr = np.square(y - prd)\n",
    "# np.std compute the standard deviation: we want records that have greater loss than x% of all loss std\n",
    "std = np.std(sqr)"
   ]
  },
  {
   "cell_type": "code",
   "execution_count": 20,
   "id": "spare-potential",
   "metadata": {},
   "outputs": [],
   "source": [
    "import csv"
   ]
  },
  {
   "cell_type": "code",
   "execution_count": 62,
   "id": "governing-stomach",
   "metadata": {},
   "outputs": [
    {
     "name": "stdout",
     "output_type": "stream",
     "text": [
      "utflag{m4Ch1nE_1rNg_SUx_LMFa0000000}\n",
      "\n",
      "utflag{m4Ch1nE_1rNg_SUx_LMFa0000000}\n",
      "\n",
      "utflag{m4Ch1nE_1rNg_SUx_LMFa0000000}\n",
      "\n",
      "utflag{m4Ch1nE_1rNg_SUx_LMFa0000000}\n",
      "\n",
      "utflag{m4Ch1nE_1rNg_SUxLMFa0000000}\n",
      "\n",
      "utflag{m4Ch1nE_1rNg_SUxLMFa0000000}\n",
      "\n",
      "utflag{m4Ch1nE_1rNg_SUxLMFa0000000}\n",
      "\n",
      "utflag{m4Ch1nE_1rNg_SUxLMFa0000000}\n",
      "\n",
      "utflag{m4Ch1nE_1rNg_SUxLMFa0000000}\n",
      "\n"
     ]
    }
   ],
   "source": [
    "datafile = open('D:/CTF competition/Participated/UTCTF/smol data/anomaly_detect.csv', 'r')\n",
    "datareader = csv.reader(datafile, delimiter=',')\n",
    "data = []\n",
    "for row in datareader:\n",
    "    data.append(row)\n",
    "    \n",
    "for i in range(1,10):\n",
    "    # np.argwhere returns the rows from \"sqr\" that satisfy the condition\n",
    "    anomaly_rows_from_sqr = np.argwhere(sqr > (0.01 * i * std))\n",
    "    \n",
    "    # plus one because for matching between sqr and data we should consider first row in data\n",
    "    anomaly_rows_include_first_row = anomaly_rows_from_sqr + 1\n",
    "    \n",
    "    for i in anomaly_rows_include_first_row:\n",
    "        print(data[i[0]][70], end=\"\") \n",
    "    print(\"\\n\")\n",
    "    # flag is utflag{m4Ch1nE_1rNg_SUx_LMFa0000000}"
   ]
  },
  {
   "cell_type": "code",
   "execution_count": null,
   "id": "charitable-income",
   "metadata": {},
   "outputs": [],
   "source": []
  },
  {
   "cell_type": "code",
   "execution_count": null,
   "id": "statewide-sponsorship",
   "metadata": {},
   "outputs": [],
   "source": []
  }
 ],
 "metadata": {
  "kernelspec": {
   "display_name": "Python 3",
   "language": "python",
   "name": "python3"
  },
  "language_info": {
   "codemirror_mode": {
    "name": "ipython",
    "version": 3
   },
   "file_extension": ".py",
   "mimetype": "text/x-python",
   "name": "python",
   "nbconvert_exporter": "python",
   "pygments_lexer": "ipython3",
   "version": "3.8.0"
  }
 },
 "nbformat": 4,
 "nbformat_minor": 5
}
